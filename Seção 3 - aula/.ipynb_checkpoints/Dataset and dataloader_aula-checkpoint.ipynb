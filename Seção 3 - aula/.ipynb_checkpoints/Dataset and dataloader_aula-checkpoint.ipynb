{
 "cells": [
  {
   "cell_type": "code",
   "execution_count": 1,
   "id": "c5f53761-3b81-4ad5-8a28-62bc1ff3778a",
   "metadata": {},
   "outputs": [],
   "source": [
    "#Importação das bibliotecas\n",
    "from torch.utils.data import Dataset, DataLoader\n",
    "import torch\n",
    "import torch.nn as nn"
   ]
  },
  {
   "cell_type": "code",
   "execution_count": 2,
   "id": "90db4b47-add2-4310-871d-afaaa5579c3b",
   "metadata": {},
   "outputs": [],
   "source": [
    "#Criação de listas\n",
    "x = [[1, 2], [3, 4], [5, 6], [7, 8]]\n",
    "y = [[3], [7], [11], [15]]"
   ]
  },
  {
   "cell_type": "code",
   "execution_count": 3,
   "id": "4935c275-1f93-4af1-97ce-bc2a1b387cfb",
   "metadata": {},
   "outputs": [],
   "source": [
    "#Conversão para tensores\n",
    "X = torch.tensor(x).float()\n",
    "Y = torch.tensor(y).float()"
   ]
  },
  {
   "cell_type": "code",
   "execution_count": 13,
   "id": "1f492d3e-15c8-4cfc-a918-feb618548c1d",
   "metadata": {},
   "outputs": [],
   "source": [
    "#Configuração do dispositivo que vai ser usado\n",
    "device = 'cuda' if torch.cuda.is_available() else 'cpu'\n",
    "X = X.to(device)\n",
    "Y = Y.to(device)"
   ]
  },
  {
   "cell_type": "code",
   "execution_count": 14,
   "id": "03e254a4-b083-46d5-b4bd-39354c25a4ae",
   "metadata": {},
   "outputs": [],
   "source": [
    "class MyDataset(Dataset):\n",
    "    def __init__(self, x, y): #Construtor da classe\n",
    "        self.x = torch.tensor(x).float().to(device)\n",
    "        self.y = torch.tensor(y).float().to(device)\n",
    "\n",
    "    def __len__(self): #Método que retorna o tamanho do dataset\n",
    "        return len(self.x)\n",
    "\n",
    "    def __getitem__(self, ix): #Busca um unico par de itens\n",
    "        return self.x[ix], self.y[ix]"
   ]
  },
  {
   "cell_type": "code",
   "execution_count": 6,
   "id": "6930d103-e01f-4e6a-acc6-96faca80eb57",
   "metadata": {},
   "outputs": [],
   "source": [
    "ds = MyDataset(x,y) #Instanciação"
   ]
  },
  {
   "cell_type": "code",
   "execution_count": 7,
   "id": "04488e5f-7047-4af9-bcf5-dc9c03499763",
   "metadata": {},
   "outputs": [],
   "source": [
    "dl = DataLoader(ds, batch_size=2, shuffle=True) #Criação dataloader"
   ]
  },
  {
   "cell_type": "code",
   "execution_count": 8,
   "id": "315916a0-f7ec-4a7c-8ac7-403d9fb7b848",
   "metadata": {},
   "outputs": [
    {
     "name": "stdout",
     "output_type": "stream",
     "text": [
      "tensor([[1., 2.],\n",
      "        [5., 6.]], device='cuda:0') tensor([[ 3.],\n",
      "        [11.]], device='cuda:0')\n",
      "tensor([[7., 8.],\n",
      "        [3., 4.]], device='cuda:0') tensor([[15.],\n",
      "        [ 7.]], device='cuda:0')\n"
     ]
    }
   ],
   "source": [
    "#Uso prático do dataloader\n",
    "for x, y in dl:\n",
    "    print(x,y)"
   ]
  },
  {
   "cell_type": "code",
   "execution_count": 9,
   "id": "6c549d3a-c123-40b0-b115-e52b65aabd92",
   "metadata": {},
   "outputs": [],
   "source": [
    "from torch.optim import SGD"
   ]
  },
  {
   "cell_type": "code",
   "execution_count": 10,
   "id": "deb55f32-732e-4e9c-aa6b-d4d37217d1a1",
   "metadata": {},
   "outputs": [],
   "source": [
    "class MyNeuralNet(nn.Module): #herda as funcionalidades\n",
    "    def __init__(self): #construtor \n",
    "        super().__init__()\n",
    "        self.layer1 = nn.Linear(2, 8)  #Camada linear, camada de dentrada\n",
    "        self.activation = nn.ReLU()   #Função de ativação\n",
    "        self.layer2 = nn.Linear(8, 1) #Camada de saída\n",
    "\n",
    "    def forward(self, x): #define o fluxo de dados\n",
    "        x = self.layer1(x) \n",
    "        x = self.activation(x)\n",
    "        x = self.layer2(x)\n",
    "        return x"
   ]
  },
  {
   "cell_type": "code",
   "execution_count": 11,
   "id": "d198fe53-aa13-4241-9cde-9427e144077e",
   "metadata": {},
   "outputs": [],
   "source": [
    "model = MyNeuralNet() #Criação do modelo\n",
    "model.to(device) #Passando o modelo para o dispositivo configurado\n",
    "loss_func = nn.MSELoss() #Define a função de erro\n",
    "opt = SGD(model.parameters(), lr=0.001) #Define o otimizador, descida do gradiente estocástica, lr = learning rate"
   ]
  },
  {
   "cell_type": "code",
   "execution_count": 12,
   "id": "33b92189-39bc-412e-9b12-6f5e80ddf6c3",
   "metadata": {},
   "outputs": [],
   "source": [
    "losses = []\n",
    "for _ in range(50):  #50 epochs \n",
    "    for data in dl: \n",
    "        opt.zero_grad() #zerando gradiente    \n",
    "        x1,y1 = data\n",
    "        loss_value = loss_func(model(x1), y1) #Valor de erro\n",
    "        \n",
    "        loss_value.backward() \n",
    "\n",
    "        opt.step() #Atualizando os pesos\n",
    "        \n",
    "        losses.append(loss_value.detach().cpu().numpy()) #Somando valor do erro"
   ]
  },
  {
   "cell_type": "code",
   "execution_count": null,
   "id": "3b8527f1-6514-4ecb-bfd6-c174e3b3bf7d",
   "metadata": {},
   "outputs": [],
   "source": []
  }
 ],
 "metadata": {
  "kernelspec": {
   "display_name": "Python 3 (ipykernel)",
   "language": "python",
   "name": "python3"
  },
  "language_info": {
   "codemirror_mode": {
    "name": "ipython",
    "version": 3
   },
   "file_extension": ".py",
   "mimetype": "text/x-python",
   "name": "python",
   "nbconvert_exporter": "python",
   "pygments_lexer": "ipython3",
   "version": "3.11.13"
  }
 },
 "nbformat": 4,
 "nbformat_minor": 5
}
