{
 "cells": [
  {
   "cell_type": "markdown",
   "id": "a42ccc4e-ff9f-430d-8091-1f3beeb7b3e0",
   "metadata": {},
   "source": [
    "Função de ativação sigmoide"
   ]
  },
  {
   "cell_type": "code",
   "execution_count": 1,
   "id": "9417bc23-3fc2-4b69-a21c-9be103023603",
   "metadata": {},
   "outputs": [],
   "source": [
    "import math\n",
    "def sigmoid(x):\n",
    "    return 1 / (1 + math.exp(-x))"
   ]
  },
  {
   "cell_type": "markdown",
   "id": "0d736d69-3479-4ea5-93a8-4a751c1a1995",
   "metadata": {},
   "source": [
    "Função de ativação relu"
   ]
  },
  {
   "cell_type": "code",
   "execution_count": 2,
   "id": "4aa15ee4-b8fe-49f4-9e6d-1ad5aea69cbb",
   "metadata": {},
   "outputs": [],
   "source": [
    "import torch\n",
    "\n",
    "class ReLU(torch.nn.Module):\n",
    "    def __init__(self):\n",
    "        super().__init__()\n",
    "\n",
    "    def forward(self, x):\n",
    "        return torch.max(torch.zeros_like(x), x)"
   ]
  },
  {
   "cell_type": "markdown",
   "id": "83b1c358-9671-43c7-9099-c2d0054faa0e",
   "metadata": {},
   "source": [
    "Função de erro, mean squared error"
   ]
  },
  {
   "cell_type": "code",
   "execution_count": 4,
   "id": "5f5881ab-db8e-44ee-935e-2efdcc01e77f",
   "metadata": {},
   "outputs": [],
   "source": [
    "import numpy\n",
    "def mse_loss(y_true, y_pred):\n",
    "    return np.mean((y_true - y_pred) ** 2)"
   ]
  },
  {
   "cell_type": "markdown",
   "id": "6ecc5d9b-8d2c-41c6-8d01-da513397d097",
   "metadata": {},
   "source": [
    "Função de erro, cross entropy loss"
   ]
  },
  {
   "cell_type": "code",
   "execution_count": 5,
   "id": "0eeeaf3c-27b2-4807-9ac2-fa9b91089f32",
   "metadata": {},
   "outputs": [],
   "source": [
    "def cross_entropy_loss(y_true, y_pred):\n",
    "    epsilon = 1e-15\n",
    "    y_pred = np.clip(y_pred, epsilon, 1. - epsilon)  # Evitar divisão por zero\n",
    "    return -np.mean(y_true * np.log(y_pred) + (1 - y_true) * np.log(1 - y_pred))"
   ]
  }
 ],
 "metadata": {
  "kernelspec": {
   "display_name": "Python 3 (ipykernel)",
   "language": "python",
   "name": "python3"
  },
  "language_info": {
   "codemirror_mode": {
    "name": "ipython",
    "version": 3
   },
   "file_extension": ".py",
   "mimetype": "text/x-python",
   "name": "python",
   "nbconvert_exporter": "python",
   "pygments_lexer": "ipython3",
   "version": "3.13.5"
  }
 },
 "nbformat": 4,
 "nbformat_minor": 5
}
