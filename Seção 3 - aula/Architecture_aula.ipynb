{
 "cells": [
  {
   "cell_type": "markdown",
   "id": "bca20982-61a1-4e17-8493-524f4a38ecc5",
   "metadata": {},
   "source": [
    "Importação das bibliotecas"
   ]
  },
  {
   "cell_type": "code",
   "execution_count": 1,
   "id": "c3f20367-5aee-4493-bc0f-ccaefdfd4c86",
   "metadata": {},
   "outputs": [],
   "source": [
    "import torch\n",
    "from torchviz import make_dot"
   ]
  },
  {
   "cell_type": "markdown",
   "id": "917deaf3-16c7-41df-af41-fe1554e8da6a",
   "metadata": {},
   "source": [
    "Criação de listas, onde x é a camada de entrada e y o resultado que queremos"
   ]
  },
  {
   "cell_type": "code",
   "execution_count": 2,
   "id": "c750bfc6-eafb-4705-a035-fe15588e55c9",
   "metadata": {},
   "outputs": [],
   "source": [
    "x = [[1, 2], [3, 4], [5, 6], [7, 8]]\n",
    "y = [[3], [7], [11], [15]]"
   ]
  },
  {
   "cell_type": "markdown",
   "id": "31101a76-432b-41e7-bf4f-0927119ec8fa",
   "metadata": {},
   "source": [
    "Conversão de lista para tensores"
   ]
  },
  {
   "cell_type": "code",
   "execution_count": 3,
   "id": "c921d5c8-eda0-44ad-b4a8-6b7b94e5464d",
   "metadata": {},
   "outputs": [],
   "source": [
    "X = torch.tensor(x).float()\n",
    "Y = torch.tensor(y).float()"
   ]
  },
  {
   "cell_type": "markdown",
   "id": "63220ad9-292d-4e43-8081-b902c9e5f3b0",
   "metadata": {},
   "source": [
    "Verificando se existe um suporte para GPU, se não utiliza a CPU"
   ]
  },
  {
   "cell_type": "code",
   "execution_count": 14,
   "id": "1b38bafe-0e5b-4ea3-89b9-c5925ea0b128",
   "metadata": {},
   "outputs": [
    {
     "name": "stdout",
     "output_type": "stream",
     "text": [
      "cuda\n"
     ]
    }
   ],
   "source": [
    "device = 'cuda' if torch.cuda.is_available() else 'cpu'\n",
    "print(device)\n",
    "X = X.to(device)\n",
    "Y = Y.to(device)"
   ]
  },
  {
   "cell_type": "code",
   "execution_count": 6,
   "id": "b8dcaad8-3f75-412a-86cc-bc708392a032",
   "metadata": {},
   "outputs": [],
   "source": [
    "import torch.nn as nn #biblioteca para podermos criar camadas \n",
    "\n",
    "class MyNeuralNet(nn.Module): #herda as funcionalidades\n",
    "    def __init__(self): #construtor \n",
    "        super().__init__()\n",
    "        self.layer1 = nn.Linear(2, 8)  #Camada linear, camada de dentrada\n",
    "        self.activation = nn.ReLU()   #Função de ativação\n",
    "        self.layer2 = nn.Linear(8, 1) #Camada de saída\n",
    "\n",
    "    def forward(self, x): #define o fluxo de dados\n",
    "        x = self.layer1(x) \n",
    "        x = self.activation(x)\n",
    "        x = self.layer2(x)\n",
    "        return x"
   ]
  },
  {
   "cell_type": "markdown",
   "id": "5c2fddfa-6801-44e0-87d9-84a52b8c529a",
   "metadata": {},
   "source": [
    "Instancia da rede"
   ]
  },
  {
   "cell_type": "code",
   "execution_count": 7,
   "id": "413edd9d-aabe-44fa-bf5d-3862fa69d8a4",
   "metadata": {},
   "outputs": [],
   "source": [
    "model = MyNeuralNet()"
   ]
  },
  {
   "cell_type": "markdown",
   "id": "6771e7fc-0fce-45b9-83b4-425bed822e88",
   "metadata": {},
   "source": [
    "Passando a rede para a GPU evitando conflitos e criando um png da rede"
   ]
  },
  {
   "cell_type": "code",
   "execution_count": 16,
   "id": "744f7354-fd53-41b5-b214-b215d0daf017",
   "metadata": {},
   "outputs": [
    {
     "data": {
      "text/plain": [
       "'dense network.png'"
      ]
     },
     "execution_count": 16,
     "metadata": {},
     "output_type": "execute_result"
    }
   ],
   "source": [
    "model.to(device)\n",
    "make_dot(model(X), params=dict(model.named_parameters())).render(\"dense network\", format=\"png\")"
   ]
  },
  {
   "cell_type": "markdown",
   "id": "20f8beac-8a99-417e-bbf4-e6be3c223d24",
   "metadata": {},
   "source": [
    "Formato dos dados de entrada"
   ]
  },
  {
   "cell_type": "code",
   "execution_count": 9,
   "id": "9b7b2632-997a-4c8c-81de-eec5a82e0bc4",
   "metadata": {},
   "outputs": [
    {
     "data": {
      "text/plain": [
       "torch.Size([4, 2])"
      ]
     },
     "execution_count": 9,
     "metadata": {},
     "output_type": "execute_result"
    }
   ],
   "source": [
    "X.shape"
   ]
  },
  {
   "cell_type": "markdown",
   "id": "62a03131-d59e-43a5-8e91-ca513db3f7e6",
   "metadata": {},
   "source": [
    "Pesos dos neuronios da primeira camada"
   ]
  },
  {
   "cell_type": "code",
   "execution_count": 10,
   "id": "10775d89-8e12-4df5-bca3-d4e08947f543",
   "metadata": {},
   "outputs": [
    {
     "data": {
      "text/plain": [
       "Parameter containing:\n",
       "tensor([[ 0.1593, -0.1771],\n",
       "        [-0.3992,  0.4109],\n",
       "        [-0.5647,  0.1083],\n",
       "        [-0.0216, -0.0042],\n",
       "        [-0.2979,  0.5218],\n",
       "        [ 0.0218,  0.3977],\n",
       "        [-0.5705, -0.1151],\n",
       "        [ 0.1770,  0.6069]], requires_grad=True)"
      ]
     },
     "execution_count": 10,
     "metadata": {},
     "output_type": "execute_result"
    }
   ],
   "source": [
    "model.layer1.weight"
   ]
  },
  {
   "cell_type": "code",
   "execution_count": null,
   "id": "d984e247-8bf4-4949-bd9d-b8f2300dab05",
   "metadata": {},
   "outputs": [],
   "source": []
  }
 ],
 "metadata": {
  "kernelspec": {
   "display_name": "Python 3 (ipykernel)",
   "language": "python",
   "name": "python3"
  },
  "language_info": {
   "codemirror_mode": {
    "name": "ipython",
    "version": 3
   },
   "file_extension": ".py",
   "mimetype": "text/x-python",
   "name": "python",
   "nbconvert_exporter": "python",
   "pygments_lexer": "ipython3",
   "version": "3.13.5"
  }
 },
 "nbformat": 4,
 "nbformat_minor": 5
}
