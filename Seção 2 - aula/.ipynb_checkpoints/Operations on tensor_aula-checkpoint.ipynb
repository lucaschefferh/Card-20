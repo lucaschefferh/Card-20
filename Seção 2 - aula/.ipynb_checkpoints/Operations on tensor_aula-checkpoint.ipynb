{
 "cells": [
  {
   "cell_type": "code",
   "execution_count": 1,
   "id": "a896de53-c92f-4a3e-8eab-504af6593173",
   "metadata": {},
   "outputs": [],
   "source": [
    "import torch"
   ]
  },
  {
   "cell_type": "code",
   "execution_count": 2,
   "id": "8356253f-e71b-4a16-a5b1-9a617483a06e",
   "metadata": {},
   "outputs": [],
   "source": [
    "x = torch.tensor([[1,2,3,4],[5,6,7,8]])"
   ]
  },
  {
   "cell_type": "code",
   "execution_count": 3,
   "id": "d778934d-4ad1-4e8a-9fa4-2d0e89b8655a",
   "metadata": {},
   "outputs": [
    {
     "name": "stdout",
     "output_type": "stream",
     "text": [
      "torch.Size([2, 4])\n"
     ]
    }
   ],
   "source": [
    "print(x.shape)"
   ]
  },
  {
   "cell_type": "code",
   "execution_count": 4,
   "id": "fd527217-f57e-49cd-9716-fd8b0f14ad36",
   "metadata": {},
   "outputs": [
    {
     "data": {
      "text/plain": [
       "tensor([[10, 20, 30, 40],\n",
       "        [50, 60, 70, 80]])"
      ]
     },
     "execution_count": 4,
     "metadata": {},
     "output_type": "execute_result"
    }
   ],
   "source": [
    "x*10"
   ]
  },
  {
   "cell_type": "code",
   "execution_count": 5,
   "id": "92488a50-7815-4eb5-b4f6-e9fda6698e0c",
   "metadata": {},
   "outputs": [
    {
     "data": {
      "text/plain": [
       "tensor([[11, 12, 13, 14],\n",
       "        [15, 16, 17, 18]])"
      ]
     },
     "execution_count": 5,
     "metadata": {},
     "output_type": "execute_result"
    }
   ],
   "source": [
    "x.add(10)"
   ]
  },
  {
   "cell_type": "code",
   "execution_count": 6,
   "id": "4db6c559-8042-45dc-ace7-62160477dee4",
   "metadata": {},
   "outputs": [
    {
     "data": {
      "text/plain": [
       "tensor([[1, 2, 3, 4],\n",
       "        [5, 6, 7, 8]])"
      ]
     },
     "execution_count": 6,
     "metadata": {},
     "output_type": "execute_result"
    }
   ],
   "source": [
    "x"
   ]
  },
  {
   "cell_type": "code",
   "execution_count": 8,
   "id": "28f7962a-33d0-468d-a94a-f73457ebb47f",
   "metadata": {},
   "outputs": [
    {
     "data": {
      "text/plain": [
       "torch.Size([2, 4])"
      ]
     },
     "execution_count": 8,
     "metadata": {},
     "output_type": "execute_result"
    }
   ],
   "source": [
    "x.shape"
   ]
  },
  {
   "cell_type": "code",
   "execution_count": 10,
   "id": "8edb28df-3751-4f0c-9e33-2681e353081c",
   "metadata": {},
   "outputs": [
    {
     "data": {
      "text/plain": [
       "tensor([[1, 2],\n",
       "        [3, 4],\n",
       "        [5, 6],\n",
       "        [7, 8]])"
      ]
     },
     "execution_count": 10,
     "metadata": {},
     "output_type": "execute_result"
    }
   ],
   "source": [
    "x.view(4,2)"
   ]
  },
  {
   "cell_type": "code",
   "execution_count": 11,
   "id": "f3428765-91e4-4d25-b1ea-f062931dcab7",
   "metadata": {},
   "outputs": [
    {
     "data": {
      "text/plain": [
       "tensor([[1],\n",
       "        [2],\n",
       "        [3],\n",
       "        [4],\n",
       "        [5],\n",
       "        [6],\n",
       "        [7],\n",
       "        [8]])"
      ]
     },
     "execution_count": 11,
     "metadata": {},
     "output_type": "execute_result"
    }
   ],
   "source": [
    "x.view(8,1)"
   ]
  },
  {
   "cell_type": "code",
   "execution_count": 12,
   "id": "02e30bb7-e1b6-48c7-baad-f397e59304a8",
   "metadata": {},
   "outputs": [],
   "source": [
    "a = torch.ones(2,1,10)"
   ]
  },
  {
   "cell_type": "code",
   "execution_count": 13,
   "id": "4b7951aa-4ade-4233-b6db-f75c94761dc0",
   "metadata": {},
   "outputs": [
    {
     "data": {
      "text/plain": [
       "tensor([[[1., 1., 1., 1., 1., 1., 1., 1., 1., 1.]],\n",
       "\n",
       "        [[1., 1., 1., 1., 1., 1., 1., 1., 1., 1.]]])"
      ]
     },
     "execution_count": 13,
     "metadata": {},
     "output_type": "execute_result"
    }
   ],
   "source": [
    "a"
   ]
  },
  {
   "cell_type": "code",
   "execution_count": 15,
   "id": "370ab62b-7b00-419f-8575-1c8880ea4c92",
   "metadata": {},
   "outputs": [
    {
     "name": "stdout",
     "output_type": "stream",
     "text": [
      "Esta é o shape antes de aplicar o squeeze: torch.Size([2, 1, 10])\n",
      "Esta é o shape depois de aplicar o squeeze: torch.Size([2, 10])\n"
     ]
    }
   ],
   "source": [
    "print(f\"Esta é o shape antes de aplicar o squeeze: {a.shape}\")\n",
    "squeezed = a.squeeze(1)\n",
    "print(f\"Esta é o shape depois de aplicar o squeeze: {squeezed.shape}\")"
   ]
  },
  {
   "cell_type": "code",
   "execution_count": 17,
   "id": "cd165661-5b5e-43d2-acbe-ad273ffb8358",
   "metadata": {},
   "outputs": [
    {
     "name": "stdout",
     "output_type": "stream",
     "text": [
      "Esta é o shape antes de aplicar o squeeze: torch.Size([2, 2, 10])\n",
      "Esta é o shape depois de aplicar o squeeze: torch.Size([2, 2, 10])\n"
     ]
    }
   ],
   "source": [
    "a = torch.ones(2,2,10)\n",
    "print(f\"Esta é o shape antes de aplicar o squeeze: {a.shape}\")\n",
    "squeezed = a.squeeze(1)\n",
    "print(f\"Esta é o shape depois de aplicar o squeeze: {squeezed.shape}\")"
   ]
  },
  {
   "cell_type": "code",
   "execution_count": 18,
   "id": "0b40d3c2-ec45-4ecf-a7e1-cb1f6c6d8569",
   "metadata": {},
   "outputs": [
    {
     "name": "stdout",
     "output_type": "stream",
     "text": [
      "Esta é o shape antes de aplicar o squeeze: torch.Size([2, 3, 1])\n",
      "Esta é o shape depois de aplicar o squeeze: torch.Size([2, 3])\n"
     ]
    }
   ],
   "source": [
    "a = torch.ones(2,3,1)\n",
    "print(f\"Esta é o shape antes de aplicar o squeeze: {a.shape}\")\n",
    "squeezed = a.squeeze(2)\n",
    "print(f\"Esta é o shape depois de aplicar o squeeze: {squeezed.shape}\")"
   ]
  },
  {
   "cell_type": "code",
   "execution_count": 20,
   "id": "745bf36a-810b-4b11-aac8-26fd009a8953",
   "metadata": {},
   "outputs": [
    {
     "name": "stdout",
     "output_type": "stream",
     "text": [
      "Esta é o shape antes de aplicar o squeeze: torch.Size([2, 3])\n",
      "Esta é o shape depois de aplicar o squeeze: torch.Size([2, 3, 1])\n"
     ]
    }
   ],
   "source": [
    "a = torch.ones(2,3)\n",
    "print(f\"Esta é o shape antes de aplicar o squeeze: {a.shape}\")\n",
    "squeezed = a.unsqueeze(2)\n",
    "print(f\"Esta é o shape depois de aplicar o squeeze: {squeezed.shape}\")"
   ]
  },
  {
   "cell_type": "code",
   "execution_count": 21,
   "id": "cddc833d-0672-4332-b431-1d9aa2720ec8",
   "metadata": {},
   "outputs": [],
   "source": [
    "a = torch.ones(2,3)"
   ]
  },
  {
   "cell_type": "code",
   "execution_count": 23,
   "id": "26f5a1b0-a205-49cc-8919-89728b217466",
   "metadata": {},
   "outputs": [
    {
     "name": "stdout",
     "output_type": "stream",
     "text": [
      "torch.Size([1, 2, 3])\n",
      "torch.Size([2, 1, 3])\n",
      "torch.Size([2, 3, 1])\n"
     ]
    }
   ],
   "source": [
    "print(a[None].shape)\n",
    "print(a[:,None].shape)\n",
    "print(a[:,:,None].shape)"
   ]
  }
 ],
 "metadata": {
  "kernelspec": {
   "display_name": "Python 3 (ipykernel)",
   "language": "python",
   "name": "python3"
  },
  "language_info": {
   "codemirror_mode": {
    "name": "ipython",
    "version": 3
   },
   "file_extension": ".py",
   "mimetype": "text/x-python",
   "name": "python",
   "nbconvert_exporter": "python",
   "pygments_lexer": "ipython3",
   "version": "3.13.5"
  }
 },
 "nbformat": 4,
 "nbformat_minor": 5
}
