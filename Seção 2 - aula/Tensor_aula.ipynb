{
 "cells": [
  {
   "cell_type": "markdown",
   "id": "934bef46-763d-4b5c-8c50-e389d5f9ff10",
   "metadata": {},
   "source": [
    "Importação da biblioteca"
   ]
  },
  {
   "cell_type": "code",
   "execution_count": 2,
   "id": "f89ddf77-9df9-428d-9257-3708bf46cac1",
   "metadata": {},
   "outputs": [],
   "source": [
    "import torch"
   ]
  },
  {
   "cell_type": "markdown",
   "id": "76e9b144-0e3a-4362-8aea-530bf59379c2",
   "metadata": {},
   "source": [
    "Um tensor com o tamanho de 2"
   ]
  },
  {
   "cell_type": "code",
   "execution_count": 3,
   "id": "cd243777-8aa5-4a2e-8deb-c1654d835745",
   "metadata": {},
   "outputs": [
    {
     "data": {
      "text/plain": [
       "torch.Size([2])"
      ]
     },
     "execution_count": 3,
     "metadata": {},
     "output_type": "execute_result"
    }
   ],
   "source": [
    "sample = torch.tensor([10,11])\n",
    "sample.shape"
   ]
  },
  {
   "cell_type": "markdown",
   "id": "5521a6fa-b5b8-46cb-b31f-fae1bcddc45e",
   "metadata": {},
   "source": [
    "Tensor tamanho 2x2"
   ]
  },
  {
   "cell_type": "code",
   "execution_count": 5,
   "id": "27bf4a7e-c341-45ee-a25e-6592a8353409",
   "metadata": {},
   "outputs": [
    {
     "data": {
      "text/plain": [
       "torch.Size([2, 2])"
      ]
     },
     "execution_count": 5,
     "metadata": {},
     "output_type": "execute_result"
    }
   ],
   "source": [
    "sample = torch.tensor([[10,11],[12,13]])\n",
    "sample.shape"
   ]
  },
  {
   "cell_type": "markdown",
   "id": "6cb85030-0f8f-4971-85e5-9545e67def3c",
   "metadata": {},
   "source": [
    "Tensor tamanho 2x1"
   ]
  },
  {
   "cell_type": "code",
   "execution_count": 6,
   "id": "ae4c51d9-18c2-4057-be76-374d8934f483",
   "metadata": {},
   "outputs": [
    {
     "data": {
      "text/plain": [
       "torch.Size([2, 1])"
      ]
     },
     "execution_count": 6,
     "metadata": {},
     "output_type": "execute_result"
    }
   ],
   "source": [
    "sample = torch.tensor([[10],[11]])\n",
    "sample.shape"
   ]
  },
  {
   "cell_type": "code",
   "execution_count": 9,
   "id": "dd25c811-15df-4b65-9712-421b1eed774c",
   "metadata": {},
   "outputs": [
    {
     "name": "stderr",
     "output_type": "stream",
     "text": [
      "/home/lucas/anaconda3/lib/python3.13/site-packages/plotly/offline/offline.py:557: UserWarning:\n",
      "\n",
      "Your filename `tensor_html` didn't end with .html. Adding .html to the end of your file.\n",
      "\n"
     ]
    },
    {
     "data": {
      "text/plain": [
       "'tensor_html.html'"
      ]
     },
     "execution_count": 9,
     "metadata": {},
     "output_type": "execute_result"
    },
    {
     "name": "stderr",
     "output_type": "stream",
     "text": [
      "[0724/160156.700211:WARNING:chrome/app/chrome_main_linux.cc:82] Read channel stable from /app/extra/CHROME_VERSION_EXTRA\n"
     ]
    },
    {
     "name": "stdout",
     "output_type": "stream",
     "text": [
      "[0724/160156.848352:WARNING:chrome/app/chrome_main_linux.cc:82] Read channel stable from /app/extra/CHROME_VERSION_EXTRA\n",
      "Abrindo em uma sessão de navegador existente.\n"
     ]
    }
   ],
   "source": [
    "#Importação bibliotecas gráficas\n",
    "import plotly.graph_objs as go\n",
    "import plotly.offline as pyo\n",
    "\n",
    "#Criação do tensor\n",
    "a = torch.tensor([[[1,2], [3,4]], [[5,6], [7,8]]])\n",
    "\n",
    "x_vals = []\n",
    "y_vals = []\n",
    "z_vals = []\n",
    "\n",
    "for i in range(a.shape[0]):\n",
    "    for j in range(a.shape[1]):\n",
    "        for k in range(a.shape[2]):\n",
    "            x_vals.append(i)\n",
    "            y_vals.append(j)\n",
    "            z_vals.append(k)\n",
    "\n",
    "#Criação do gráfico Scatter plot em 3d\n",
    "trace = go.Scatter3d(\n",
    "    x=x_vals,\n",
    "    y=y_vals,\n",
    "    z=z_vals,\n",
    "    mode='markers',\n",
    "    marker=dict(\n",
    "        size=5,\n",
    "        color=a.flatten(),\n",
    "        colorscale='Viridis',\n",
    "        opacity=0.8\n",
    "    )\n",
    ")\n",
    "\n",
    "#O layout do grafico\n",
    "layout = go.Layout(\n",
    "    margin=dict(l=0, r=0, b=0, t=0),\n",
    "    scene=dict(\n",
    "        xaxis = dict(title='Dimension 1'),\n",
    "        yaxis = dict(title='Dimension 2'),\n",
    "        zaxis = dict(title='Dimension 3')\n",
    "    )\n",
    ")\n",
    "\n",
    "#Instanciação do gráfico\n",
    "fig = go.Figure(data = [trace], layout = layout)\n",
    "pyo.plot(fig, filename='tensor_html')\n",
    "        \n",
    "    "
   ]
  }
 ],
 "metadata": {
  "kernelspec": {
   "display_name": "Python 3 (ipykernel)",
   "language": "python",
   "name": "python3"
  },
  "language_info": {
   "codemirror_mode": {
    "name": "ipython",
    "version": 3
   },
   "file_extension": ".py",
   "mimetype": "text/x-python",
   "name": "python",
   "nbconvert_exporter": "python",
   "pygments_lexer": "ipython3",
   "version": "3.13.5"
  }
 },
 "nbformat": 4,
 "nbformat_minor": 5
}
