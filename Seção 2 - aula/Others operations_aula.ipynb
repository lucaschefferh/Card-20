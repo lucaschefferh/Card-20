{
 "cells": [
  {
   "cell_type": "code",
   "execution_count": 1,
   "id": "108f38ce-da38-412d-883b-c64127bc3755",
   "metadata": {},
   "outputs": [],
   "source": [
    "import torch"
   ]
  },
  {
   "cell_type": "code",
   "execution_count": 4,
   "id": "0e9cc02b-2775-4814-824d-c3355a8d7090",
   "metadata": {},
   "outputs": [],
   "source": [
    "x = torch.tensor([[1,2,3,4],[5,6,7,8]]) \n",
    "y = torch.tensor([[1,2,3],\n",
    "                  [4,5,6],\n",
    "                  [7,8,9],\n",
    "                  [10,11,12]]) "
   ]
  },
  {
   "cell_type": "code",
   "execution_count": 3,
   "id": "9bbddd1b-5cb2-4270-8099-5ab4e4741c77",
   "metadata": {},
   "outputs": [
    {
     "data": {
      "text/plain": [
       "tensor([[ 70,  80,  90],\n",
       "        [158, 184, 210]])"
      ]
     },
     "execution_count": 3,
     "metadata": {},
     "output_type": "execute_result"
    }
   ],
   "source": [
    "torch.matmul(x,y)"
   ]
  },
  {
   "cell_type": "code",
   "execution_count": 6,
   "id": "af28b63e-b5a3-4a94-968b-6c3713a385d9",
   "metadata": {},
   "outputs": [
    {
     "name": "stdout",
     "output_type": "stream",
     "text": [
      "Concatenated axis 1: torch.Size([1, 4, 5]) torch.Size([1, 8, 5])\n"
     ]
    }
   ],
   "source": [
    "x = torch.randn(1,4,5)\n",
    "z = torch.cat([x,x], axis = 1)\n",
    "print('Concatenated axis 1:', x.shape, z.shape)"
   ]
  },
  {
   "cell_type": "code",
   "execution_count": 7,
   "id": "f477562c-f43d-48b6-adf6-c63032506507",
   "metadata": {},
   "outputs": [
    {
     "name": "stdout",
     "output_type": "stream",
     "text": [
      "Permute dimensions: torch.Size([3, 20, 10]) torch.Size([10, 3, 20])\n"
     ]
    }
   ],
   "source": [
    "x = torch.randn(3,20,10)\n",
    "z = x.permute(2,0,1) \n",
    "print('Permute dimensions:', x.shape, z.shape)"
   ]
  }
 ],
 "metadata": {
  "kernelspec": {
   "display_name": "Python 3 (ipykernel)",
   "language": "python",
   "name": "python3"
  },
  "language_info": {
   "codemirror_mode": {
    "name": "ipython",
    "version": 3
   },
   "file_extension": ".py",
   "mimetype": "text/x-python",
   "name": "python",
   "nbconvert_exporter": "python",
   "pygments_lexer": "ipython3",
   "version": "3.13.5"
  }
 },
 "nbformat": 4,
 "nbformat_minor": 5
}
