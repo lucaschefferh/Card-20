{
 "cells": [
  {
   "cell_type": "code",
   "execution_count": 1,
   "id": "c0e40671-34c8-449a-a403-6db23cf1a89b",
   "metadata": {},
   "outputs": [
    {
     "name": "stdout",
     "output_type": "stream",
     "text": [
      "[person_images.zip]\n",
      "  End-of-central-directory signature not found.  Either this file is not\n",
      "  a zipfile, or it constitutes one disk of a multi-part archive.  In the\n",
      "  latter case the central directory and zipfile comment will be found on\n",
      "  the last disk(s) of this archive.\n",
      "unzip:  cannot find zipfile directory in one of person_images.zip or\n",
      "        person_images.zip.zip, and cannot find person_images.zip.ZIP, period.\n"
     ]
    },
    {
     "ename": "ModuleNotFoundError",
     "evalue": "No module named 'random_warp'",
     "output_type": "error",
     "traceback": [
      "\u001b[0;31m---------------------------------------------------------------------------\u001b[0m",
      "\u001b[0;31mModuleNotFoundError\u001b[0m                       Traceback (most recent call last)",
      "Cell \u001b[0;32mIn[1], line 8\u001b[0m\n\u001b[1;32m      6\u001b[0m get_ipython()\u001b[38;5;241m.\u001b[39msystem(\u001b[38;5;124m'\u001b[39m\u001b[38;5;124mpip install -q torch_snippets torch_summary\u001b[39m\u001b[38;5;124m'\u001b[39m)\n\u001b[1;32m      7\u001b[0m \u001b[38;5;28;01mfrom\u001b[39;00m\u001b[38;5;250m \u001b[39m\u001b[38;5;21;01mtorch_snippets\u001b[39;00m\u001b[38;5;250m \u001b[39m\u001b[38;5;28;01mimport\u001b[39;00m \u001b[38;5;241m*\u001b[39m\n\u001b[0;32m----> 8\u001b[0m \u001b[38;5;28;01mfrom\u001b[39;00m\u001b[38;5;250m \u001b[39m\u001b[38;5;21;01mrandom_warp\u001b[39;00m\u001b[38;5;250m \u001b[39m\u001b[38;5;28;01mimport\u001b[39;00m get_training_data\n",
      "\u001b[0;31mModuleNotFoundError\u001b[0m: No module named 'random_warp'"
     ]
    }
   ],
   "source": [
    "import os\n",
    "if not os.path.exists('Faceswap-Deepfake-Pytorch'):\n",
    "    !wget -q https://www.dropbox.com/s/5j17jlhts09ny/person_images.zip\n",
    "    !wget -q https://raw.githubusercontent.com/sizhky/deep-fake-util/main/random_warp.py\n",
    "!unzip -q person_images.zip\n",
    "!pip install -q torch_snippets torch_summary\n",
    "from torch_snippets import *\n",
    "from random_warp import get_training_data"
   ]
  },
  {
   "cell_type": "code",
   "execution_count": null,
   "id": "f1f2f185-a752-46c3-99ea-f434fce2c3da",
   "metadata": {},
   "outputs": [],
   "source": [
    "import cv2\n",
    "face_cascade = cv2.CascadeClassifier(cv2.data.haarcascades + 'haarcascade_frontalface_default.xml')\n",
    "\n",
    "def crop_face(img):\n",
    "    gray = cv2.cvtColor(img, cv2.COLOR_BGR2GRAY)\n",
    "    faces = face_cascade.detectMultiScale(gray, 1.3, 5)\n",
    "    if(len(faces)>0):\n",
    "        for (x,y,w,h) in faces:\n",
    "            img2 = img[y:(y+h),x:(x+w),:]\n",
    "            img2 = cv2.resize(img2,(256,256))\n",
    "            return img2, True\n",
    "    else:\n",
    "        return img, False"
   ]
  },
  {
   "cell_type": "code",
   "execution_count": null,
   "id": "2368f671-edbb-4fd5-8b26-dd837ecdaf27",
   "metadata": {},
   "outputs": [],
   "source": [
    "!mkdir cropped_faces_personA\n",
    "!mkdir cropped_faces_personB\n",
    "\n",
    "def crop_images(folder):\n",
    "    images = Glob(folder+'/*.jpg')\n",
    "    for i in range(len(images)):\n",
    "        img = read(images[i],1)\n",
    "        img2, face_detected = crop_face(img)\n",
    "        if(face_detected==False):\n",
    "            continue\n",
    "        else:\n",
    "            cv2.imwrite('cropped_faces_'+folder+'/'+str(i)+'.jpg',cv2.cvtColor(img2, cv2.COLOR_RGB2BGR))\n",
    "\n",
    "crop_images('personA')\n",
    "crop_images('personB')"
   ]
  },
  {
   "cell_type": "code",
   "execution_count": null,
   "id": "18b5fbee-3d98-476b-8b23-adb1e765987f",
   "metadata": {},
   "outputs": [],
   "source": [
    "from torch.utils.data import Dataset,DataLoader\n",
    "class ImageDataset(Dataset):\n",
    "    def __init__(self, items_A, items_B):\n",
    "        self.items_A = np.concatenate([read(f,1)[None] for f in items_A])/255.\n",
    "        self.items_B = np.concatenate([read(f,1)[None] for f in items_B])/255.\n",
    "        self.items_A += self.items_B.mean(axis=(0, 1, 2)) - self.items_A.mean(axis=(0, 1, 2))\n",
    "\n",
    "    def __len__(self):\n",
    "        return min(len(self.items_A), len(self.items_B))\n",
    "\n",
    "    def __getitem__(self, ix):\n",
    "        a, b = choose(self.items_A), choose(self.items_B)\n",
    "        return a, b\n",
    "\n",
    "    def collate_fn(self, batch):\n",
    "        imsA, imsB = list(zip(*batch))\n",
    "        imsA, targetA = get_training_data(imsA, len(imsA))\n",
    "        imsB, targetB = get_training_data(imsB, len(imsB))\n",
    "        imsA, imsB, targetA, targetB = [torch.Tensor(i).permute(0,3,1,2).to(device) for i in [imsA, imsB, targetA, targetB]]\n",
    "        return imsA, imsB, targetA, targetB\n",
    "\n",
    "a = ImageDataset(Glob('cropped_faces_personA'), Glob('cropped_faces_personB'))\n",
    "x = DataLoader(a, batch_size=32, collate_fn=a.collate_fn)"
   ]
  },
  {
   "cell_type": "code",
   "execution_count": null,
   "id": "c269df75-c760-4684-aa96-a4daa68c16b7",
   "metadata": {},
   "outputs": [],
   "source": [
    "inspect(*next(iter(x)))\n",
    "\n",
    "for i in next(iter(x)):\n",
    "    subplots(i[:8], nc=4, sz=(4,2))"
   ]
  },
  {
   "cell_type": "code",
   "execution_count": null,
   "id": "2eee63a3-2a87-4df3-871e-140b96009963",
   "metadata": {},
   "outputs": [],
   "source": [
    "def _convLayer(input_features, output_features):\n",
    "    return nn.Sequential(\n",
    "        nn.Conv2d(input_features, output_features, kernel_size=5, stride=2, padding=2),\n",
    "        nn.LeakyReLU(0.1, inplace=True)\n",
    "    )\n",
    "\n",
    "def _UpScale(input_features, output_features):\n",
    "    return nn.Sequential(\n",
    "        nn.ConvTranspose2d(input_features, output_features, kernel_size=2, stride=2, padding=0),\n",
    "        nn.LeakyReLU(0.1, inplace=True)\n",
    "    )\n",
    "\n",
    "class Reshape(nn.Module):\n",
    "    def forward(self, input):\n",
    "        output = input.view(-1, 1024, 4, 4) # channel * 4 * 4\n",
    "        return output"
   ]
  },
  {
   "cell_type": "code",
   "execution_count": null,
   "id": "674ffbf5-b340-4df4-99af-634057093429",
   "metadata": {},
   "outputs": [],
   "source": [
    "class Autoencoder(nn.Module):\n",
    "    def __init__(self,):\n",
    "        super(Autoencoder, self).__init__()\n",
    "\n",
    "        self.encoder = nn.Sequential(\n",
    "            _convLayer(3, 128),\n",
    "            _convLayer(128, 256),\n",
    "            _convLayer(256, 512),\n",
    "            _convLayer(512, 1024),\n",
    "            nn.Flatten(),\n",
    "            nn.Linear(1024 * 4 * 4, 1024),\n",
    "            nn.Linear(1024, 1024 * 4 * 4),\n",
    "            Reshape(),\n",
    "            _UpScale(1024, 512),\n",
    "        )\n",
    "\n",
    "        self.decoder_A = nn.Sequential(\n",
    "            _UpScale(512, 256),\n",
    "            _UpScale(256, 128),\n",
    "            _UpScale(128, 64),\n",
    "            nn.Conv2d(64, 3, kernel_size=3, padding=1),\n",
    "            nn.Sigmoid(),\n",
    "        )\n",
    "\n",
    "        self.decoder_B = nn.Sequential(\n",
    "            _UpScale(512, 256),\n",
    "            _UpScale(256, 128),\n",
    "            _UpScale(128, 64),\n",
    "            nn.Conv2d(64, 3, kernel_size=3, padding=1),\n",
    "            nn.Sigmoid(),\n",
    "        )\n",
    "    \n",
    "        def forward(self, x, select='A'):\n",
    "            if select == 'A':\n",
    "                out = self.encoder(x)\n",
    "                out = self.decoder_A(out)\n",
    "            else:\n",
    "                out = self.encoder(x)\n",
    "                out = self.decoder_B(out)\n",
    "            return out"
   ]
  }
 ],
 "metadata": {
  "kernelspec": {
   "display_name": "Python 3 (ipykernel)",
   "language": "python",
   "name": "python3"
  },
  "language_info": {
   "codemirror_mode": {
    "name": "ipython",
    "version": 3
   },
   "file_extension": ".py",
   "mimetype": "text/x-python",
   "name": "python",
   "nbconvert_exporter": "python",
   "pygments_lexer": "ipython3",
   "version": "3.13.5"
  }
 },
 "nbformat": 4,
 "nbformat_minor": 5
}
